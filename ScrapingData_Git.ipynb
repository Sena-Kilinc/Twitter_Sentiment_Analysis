{
 "cells": [
  {
   "cell_type": "code",
   "execution_count": 5,
   "metadata": {},
   "outputs": [
    {
     "name": "stdout",
     "output_type": "stream",
     "text": [
      "Found 10 tweets\n"
     ]
    }
   ],
   "source": [
    "import tweepy\n",
    "import pandas as pd\n",
    "import numpy as np\n",
    "import matplotlib.pyplot as plt\n",
    "import seaborn as sns\n",
    "import re\n",
    "import datetime\n",
    "import string\n",
    "import nltk\n",
    "import warnings\n",
    "import textblob\n",
    "from textblob import TextBlob\n",
    "import xlsxwriter\n",
    "%matplotlib inline\n",
    "\n",
    "warnings.filterwarnings('ignore')\n",
    "\n",
    "consumer_key = ''\n",
    "consumer_secret = ''\n",
    "access_token = ''\n",
    "access_token_secret = ''\n",
    "\n",
    "\n",
    "auth = tweepy.OAuthHandler(consumer_key, consumer_secret)\n",
    "auth.set_access_token(access_token, access_token_secret)\n",
    "api = tweepy.API(auth)\n",
    "\n",
    "cursor = tweepy.Cursor(api.user_timeline, id=\"Akbank\", tweet_mode=\"extended\").items(10)\n",
    "tweets=[]\n",
    "time = []\n",
    "likes = []\n",
    "for i in cursor:\n",
    "    tweets.append(i.full_text)\n",
    "    time.append(i.created_at)\n",
    "    likes.append(i.favorite_count)\n",
    "\n",
    "print('Found %d tweets' % len(tweets))\n",
    "\n"
   ]
  },
  {
   "cell_type": "code",
   "execution_count": 70,
   "metadata": {},
   "outputs": [],
   "source": [
    "df = pd.DataFrame({'tweets':tweets,'time':time,'likes':likes})"
   ]
  },
  {
   "cell_type": "code",
   "execution_count": 7,
   "metadata": {},
   "outputs": [
    {
     "data": {
      "text/html": [
       "<div>\n",
       "<style scoped>\n",
       "    .dataframe tbody tr th:only-of-type {\n",
       "        vertical-align: middle;\n",
       "    }\n",
       "\n",
       "    .dataframe tbody tr th {\n",
       "        vertical-align: top;\n",
       "    }\n",
       "\n",
       "    .dataframe thead th {\n",
       "        text-align: right;\n",
       "    }\n",
       "</style>\n",
       "<table border=\"1\" class=\"dataframe\">\n",
       "  <thead>\n",
       "    <tr style=\"text-align: right;\">\n",
       "      <th></th>\n",
       "      <th>tweets</th>\n",
       "      <th>time</th>\n",
       "      <th>likes:</th>\n",
       "    </tr>\n",
       "  </thead>\n",
       "  <tbody>\n",
       "    <tr>\n",
       "      <th>0</th>\n",
       "      <td>İlk arkadaşlarımız, ilk sırdaşlarımız, ilk kah...</td>\n",
       "      <td>2021-05-08 21:03:41</td>\n",
       "      <td>18</td>\n",
       "    </tr>\n",
       "    <tr>\n",
       "      <th>1</th>\n",
       "      <td>Şubelerimizde 6-7-10 ve 11 Mayıs tarihlerinde ...</td>\n",
       "      <td>2021-05-06 14:08:23</td>\n",
       "      <td>12</td>\n",
       "    </tr>\n",
       "    <tr>\n",
       "      <th>2</th>\n",
       "      <td>Dünyanın en prestijli tasarım yarışmalarından ...</td>\n",
       "      <td>2021-05-03 12:07:35</td>\n",
       "      <td>9</td>\n",
       "    </tr>\n",
       "    <tr>\n",
       "      <th>3</th>\n",
       "      <td>Fırsatları duyan mobilden Akbanklı oluyor. Fey...</td>\n",
       "      <td>2021-05-01 08:02:59</td>\n",
       "      <td>35</td>\n",
       "    </tr>\n",
       "    <tr>\n",
       "      <th>4</th>\n",
       "      <td>30 Nisan 2021 tarihinden itibaren şubelerimizd...</td>\n",
       "      <td>2021-04-29 13:35:00</td>\n",
       "      <td>11</td>\n",
       "    </tr>\n",
       "    <tr>\n",
       "      <th>5</th>\n",
       "      <td>Kurumsal İletişim Bölüm Başkanımız Murat Göllü...</td>\n",
       "      <td>2021-04-28 12:33:00</td>\n",
       "      <td>3</td>\n",
       "    </tr>\n",
       "    <tr>\n",
       "      <th>6</th>\n",
       "      <td>Akbank’ın katkılarıyla düzenlenen MediaCat Liv...</td>\n",
       "      <td>2021-04-28 12:32:58</td>\n",
       "      <td>5</td>\n",
       "    </tr>\n",
       "    <tr>\n",
       "      <th>7</th>\n",
       "      <td>Pandemi nedeniyle sağlık önlemlerine dikkat ed...</td>\n",
       "      <td>2021-04-28 08:45:07</td>\n",
       "      <td>6</td>\n",
       "    </tr>\n",
       "    <tr>\n",
       "      <th>8</th>\n",
       "      <td>Etkinliği Marketing Türkiye’nin hesaplarından ...</td>\n",
       "      <td>2021-04-26 12:48:29</td>\n",
       "      <td>2</td>\n",
       "    </tr>\n",
       "    <tr>\n",
       "      <th>9</th>\n",
       "      <td>Marketing Türkiye ve Deloitte’un tasarladığı “...</td>\n",
       "      <td>2021-04-26 12:48:27</td>\n",
       "      <td>5</td>\n",
       "    </tr>\n",
       "  </tbody>\n",
       "</table>\n",
       "</div>"
      ],
      "text/plain": [
       "                                              tweets                time  \\\n",
       "0  İlk arkadaşlarımız, ilk sırdaşlarımız, ilk kah... 2021-05-08 21:03:41   \n",
       "1  Şubelerimizde 6-7-10 ve 11 Mayıs tarihlerinde ... 2021-05-06 14:08:23   \n",
       "2  Dünyanın en prestijli tasarım yarışmalarından ... 2021-05-03 12:07:35   \n",
       "3  Fırsatları duyan mobilden Akbanklı oluyor. Fey... 2021-05-01 08:02:59   \n",
       "4  30 Nisan 2021 tarihinden itibaren şubelerimizd... 2021-04-29 13:35:00   \n",
       "5  Kurumsal İletişim Bölüm Başkanımız Murat Göllü... 2021-04-28 12:33:00   \n",
       "6  Akbank’ın katkılarıyla düzenlenen MediaCat Liv... 2021-04-28 12:32:58   \n",
       "7  Pandemi nedeniyle sağlık önlemlerine dikkat ed... 2021-04-28 08:45:07   \n",
       "8  Etkinliği Marketing Türkiye’nin hesaplarından ... 2021-04-26 12:48:29   \n",
       "9  Marketing Türkiye ve Deloitte’un tasarladığı “... 2021-04-26 12:48:27   \n",
       "\n",
       "   likes:  \n",
       "0      18  \n",
       "1      12  \n",
       "2       9  \n",
       "3      35  \n",
       "4      11  \n",
       "5       3  \n",
       "6       5  \n",
       "7       6  \n",
       "8       2  \n",
       "9       5  "
      ]
     },
     "execution_count": 7,
     "metadata": {},
     "output_type": "execute_result"
    }
   ],
   "source": [
    "df"
   ]
  },
  {
   "cell_type": "code",
   "execution_count": 8,
   "metadata": {},
   "outputs": [
    {
     "data": {
      "text/plain": [
       "['İlk arkadaşlarımız, ilk sırdaşlarımız, ilk kahramanlarımız... Sonsuz sevgileriyle her zaman hayatımıza ışık tutan annelerimizin Anneler Günü kutlu olsun. https://t.co/lpbfKdNCdW',\n",
       " \"Şubelerimizde 6-7-10 ve 11 Mayıs tarihlerinde 09.00 - 12.30 ve 13.30 - 16.30, 12 Mayıs'ta 09.00 – 12:30 saatlerinde hizmet vereceğiz. Bu saatler dışındaki işlemler için 7/24 Akbank Mobil, Akbank Internet, 444 25 25 no’lu Müşteri İletişim Merkezimiz ve ATM’lerimize bekliyoruz. https://t.co/9eVuC7WdAc\",\n",
       " 'Dünyanın en prestijli tasarım yarışmalarından iF Design Award’da 3 ödül birden kazandık. Bu başarıda katkısı olan tüm Akbanklılara teşekkür ederiz. https://t.co/9fw58ArYyw',\n",
       " 'Fırsatları duyan mobilden Akbanklı oluyor. Feyyaz büyük haberi bir miktar orman havasıyla birlikte bu videoda alıyor.  https://t.co/ABuguK6lty https://t.co/IxyW5didCw',\n",
       " '30 Nisan 2021 tarihinden itibaren şubelerimizde 10.00-12.30 ve 13.30-16.00 saatleri arasında hizmet vereceğiz. Bu saatler dışındaki bankacılık işlemleri için 7/24 hizmet veren Akbank Mobil, Akbank Internet, 444 25 25 no’lu Müşteri İletişim Merkezimiz ve ATM’lerimize bekliyoruz. https://t.co/AnR2Gm9lmw',\n",
       " 'Kurumsal İletişim Bölüm Başkanımız Murat Göllü’nün de katılımıyla gerçekleşecek etkinlikte değişen medya ortamını, trendleri, multimedya ve yaratıcılık stratejilerini konunun uzmanları ile konuşacağız. Etkinliğe kayıt olmak için: https://t.co/YvxhKIxFRD https://t.co/eTQpXPN5I0',\n",
       " 'Akbank’ın katkılarıyla düzenlenen MediaCat Live, bu hafta “İçerik ve Platform Savaşları” konusunu gündemine alıyor.',\n",
       " 'Pandemi nedeniyle sağlık önlemlerine dikkat ederken dijital güvenliğinle ilgili önlemler almayı da unutma. Covid-19 salgınını kullanarak geliştirilen bazı yöntemler kişisel bilgilerini tehdit edebilir. Nasıl önlem alabileceğini okumak için tıkla. https://t.co/396tDbyJkf https://t.co/s6rvNIqa2v',\n",
       " 'Etkinliği Marketing Türkiye’nin hesaplarından canlı olarak takip edebilirsin. https://t.co/tuRvFJNBwn https://t.co/hefVGzsacJ',\n",
       " 'Marketing Türkiye ve Deloitte’un tasarladığı “Marketing Analytics &amp; Cognitive (MAC) zirvesi 27 Nisan’da başlıyor. Oturum sponsoru olduğumuz etkinlikte, Genel Müdür Yardımcımız Burcu Civelek Yüce veriyi anlamlandırmak ve hikayeleştirmek için kullanılabilecek çözümleri anlatacak.']"
      ]
     },
     "execution_count": 8,
     "metadata": {},
     "output_type": "execute_result"
    }
   ],
   "source": [
    "tweets"
   ]
  },
  {
   "cell_type": "code",
   "execution_count": 49,
   "metadata": {},
   "outputs": [],
   "source": [
    "#buyuk-kucuk donusumu\n",
    "df['tweets'] = df['tweets'].apply(lambda x: \" \".join(x.lower() for x in x.split()))\n",
    "\n",
    "#noktalama işaretleri\n",
    "df['tweets'] = df['tweets'].str.replace('[^\\w\\s]','')\n",
    "\n",
    "#sayılar\n",
    "df['tweets'] = df['tweets'].str.replace('\\d','')\n",
    "\"\"\"\n",
    "from nltk.corpus import stopwords\n",
    "sw = stopwords.words('turkish')\n",
    "df['tweets'] = df['tweets'].apply(lambda x: \" \".join(x for x in x.split() if x not in sw))\n",
    "\"\"\"\n",
    "def cleanTxt(text):\n",
    "    text = re.sub(r'@[A-Za-z0-9]+','',text) #removed @mentions\n",
    "    text = re.sub(r'#','',text) #removin #\n",
    "    text = re.sub(r'RT[\\S]+','',text) # removing RT\n",
    "    text = re.sub(r'https?:\\/\\/\\S+','',text) #remove hyperlink\n",
    "    \n",
    "    return text\n",
    "df['tweets'] = df['tweets'].apply(cleanTxt)"
   ]
  },
  {
   "cell_type": "code",
   "execution_count": 50,
   "metadata": {},
   "outputs": [
    {
     "data": {
      "text/plain": [
       "0    ilk arkadaşlarımız ilk sırdaşlarımız ilk kahra...\n",
       "1    şubelerimizde mayıs tarihlerinde mayısta saatl...\n",
       "2    dünyanın prestijli tasarım yarışmalarından if ...\n",
       "3    fırsatları duyan mobilden akbanklı oluyor feyy...\n",
       "4    nisan tarihinden itibaren şubelerimizde saatle...\n",
       "5    kurumsal iletişim bölüm başkanımız murat göllü...\n",
       "6    akbankın katkılarıyla düzenlenen mediacat live...\n",
       "7    pandemi nedeniyle sağlık önlemlerine dikkat ed...\n",
       "8    etkinliği marketing türkiyenin hesaplarından c...\n",
       "9    marketing türkiye deloitteun tasarladığı marke...\n",
       "Name: tweets, dtype: object"
      ]
     },
     "execution_count": 50,
     "metadata": {},
     "output_type": "execute_result"
    }
   ],
   "source": [
    "df['tweets']"
   ]
  },
  {
   "cell_type": "code",
   "execution_count": 53,
   "metadata": {},
   "outputs": [
    {
     "name": "stdout",
     "output_type": "stream",
     "text": [
      "dünyanın prestijli tasarım yarışmalarından if design awardda ödül birden kazandık başarıda katkısı olan akbanklılara teşekkür ederiz tcofwaryyw\n",
      "nisan tarihinden itibaren şubelerimizde saatleri arasında hizmet vereceğiz saatler dışındaki bankacılık işlemleri hizmet veren akbank mobil akbank internet nolu müşteri iletişim merkezimiz atmlerimize bekliyoruz tcoanrgmlmw\n"
     ]
    }
   ],
   "source": [
    "print(df['tweets'][2])\n",
    "print(df['tweets'][4])"
   ]
  },
  {
   "cell_type": "code",
   "execution_count": 54,
   "metadata": {},
   "outputs": [
    {
     "name": "stdout",
     "output_type": "stream",
     "text": [
      "ilk arkadaşlarımız ilk sırdaşlarımız ilk kahramanlarımız sonsuz sevgileriyle zaman hayatımıza ışık tutan annelerimizin anneler günü kutlu olsun tcolpbfkdncdw\n",
      "Sentiment(polarity=0.4083333333333334, subjectivity=0.55)\n",
      "şubelerimizde mayıs tarihlerinde mayısta saatlerinde hizmet vereceğiz saatler dışındaki işlemler akbank mobil akbank internet nolu müşteri iletişim merkezimiz atmlerimize bekliyoruz tcoevucwdac\n",
      "Sentiment(polarity=-0.1, subjectivity=0.1)\n",
      "dünyanın prestijli tasarım yarışmalarından if design awardda ödül birden kazandık başarıda katkısı olan akbanklılara teşekkür ederiz tcofwaryyw\n",
      "Sentiment(polarity=0.4, subjectivity=0.25)\n",
      "fırsatları duyan mobilden akbanklı oluyor feyyaz büyük haberi bir miktar orman havasıyla birlikte videoda alıyor tcoabuguklty tcoixywdidcw\n",
      "Sentiment(polarity=0.0, subjectivity=0.1)\n",
      "nisan tarihinden itibaren şubelerimizde saatleri arasında hizmet vereceğiz saatler dışındaki bankacılık işlemleri hizmet veren akbank mobil akbank internet nolu müşteri iletişim merkezimiz atmlerimize bekliyoruz tcoanrgmlmw\n",
      "Sentiment(polarity=-0.05, subjectivity=0.07500000000000001)\n",
      "kurumsal iletişim bölüm başkanımız murat göllünün katılımıyla gerçekleşecek etkinlikte değişen medya ortamını trendleri multimedya yaratıcılık stratejilerini konunun uzmanları konuşacağız etkinliğe kayıt olmak tcoyvxhkixfrd tcoetqpxpni\n",
      "Sentiment(polarity=0.0, subjectivity=0.0)\n",
      "akbankın katkılarıyla düzenlenen mediacat live hafta içerik platform savaşları konusunu gündemine alıyor\n",
      "Sentiment(polarity=0.13636363636363635, subjectivity=0.5)\n",
      "pandemi nedeniyle sağlık önlemlerine dikkat ederken dijital güvenliğinle ilgili önlemler almayı unutma covid salgınını kullanarak geliştirilen yöntemler kişisel bilgilerini tehdit edebilir önlem alabileceğini okumak tıkla tcotdbyjkf tcosrvniqav\n",
      "Sentiment(polarity=-0.006249999999999999, subjectivity=0.24375000000000002)\n",
      "etkinliği marketing türkiyenin hesaplarından canlı olarak takip edebilirsin tcoturvfjnbwn tcohefvgzsacj\n",
      "Sentiment(polarity=0.13636363636363635, subjectivity=0.5)\n",
      "marketing türkiye deloitteun tasarladığı marketing analytics amp cognitive mac zirvesi nisanda başlıyor oturum sponsoru olduğumuz etkinlikte genel müdür yardımcımız burcu civelek yüce veriyi anlamlandırmak hikayeleştirmek kullanılabilecek çözümleri anlatacak\n",
      "Sentiment(polarity=0.05000000000000002, subjectivity=0.5)\n"
     ]
    }
   ],
   "source": [
    "for i in df['tweets']:\n",
    "    print(i)\n",
    "    blob1=TextBlob(i)\n",
    "    blob_eng=blob1.translate(to=\"en\")\n",
    "    print(blob_eng.sentiment)"
   ]
  },
  {
   "cell_type": "raw",
   "metadata": {},
   "source": [
    "Sentiment Analysis"
   ]
  },
  {
   "cell_type": "code",
   "execution_count": 68,
   "metadata": {},
   "outputs": [],
   "source": [
    "positive_tweets=[]\n",
    "positive_result=[]\n",
    "\n",
    "negative_tweets=[]\n",
    "negative_result=[]\n",
    "\n",
    "neutral=[]\n",
    "neutral_result=[]\n",
    "\n",
    "for i in df['tweets']:\n",
    "    blob1=TextBlob(i)\n",
    "    blob_eng=blob1.translate(to=\"en\")\n",
    "    \n",
    "    if(blob_eng.polarity>0):\n",
    "        positive_tweets.append(i)\n",
    "        positive_result.append(blob_eng.sentiment)\n",
    "    elif(blob_eng.polarity<0):\n",
    "        negative_tweets.append(i)\n",
    "        negative_result.append(blob_eng.sentiment)\n",
    "    else:\n",
    "        neutral.append(i)\n",
    "        neutral_result.append(blob_eng.sentiment)\n",
    "        \n",
    "\n",
    "\n",
    "        "
   ]
  },
  {
   "cell_type": "code",
   "execution_count": 73,
   "metadata": {},
   "outputs": [
    {
     "data": {
      "text/html": [
       "<div>\n",
       "<style scoped>\n",
       "    .dataframe tbody tr th:only-of-type {\n",
       "        vertical-align: middle;\n",
       "    }\n",
       "\n",
       "    .dataframe tbody tr th {\n",
       "        vertical-align: top;\n",
       "    }\n",
       "\n",
       "    .dataframe thead th {\n",
       "        text-align: right;\n",
       "    }\n",
       "</style>\n",
       "<table border=\"1\" class=\"dataframe\">\n",
       "  <thead>\n",
       "    <tr style=\"text-align: right;\">\n",
       "      <th></th>\n",
       "      <th>Positive</th>\n",
       "      <th>Positive_Result</th>\n",
       "    </tr>\n",
       "  </thead>\n",
       "  <tbody>\n",
       "    <tr>\n",
       "      <th>0</th>\n",
       "      <td>ilk arkadaşlarımız ilk sırdaşlarımız ilk kahra...</td>\n",
       "      <td>(0.4083333333333334, 0.55)</td>\n",
       "    </tr>\n",
       "    <tr>\n",
       "      <th>1</th>\n",
       "      <td>dünyanın prestijli tasarım yarışmalarından if ...</td>\n",
       "      <td>(0.4, 0.25)</td>\n",
       "    </tr>\n",
       "    <tr>\n",
       "      <th>2</th>\n",
       "      <td>akbankın katkılarıyla düzenlenen mediacat live...</td>\n",
       "      <td>(0.13636363636363635, 0.5)</td>\n",
       "    </tr>\n",
       "    <tr>\n",
       "      <th>3</th>\n",
       "      <td>etkinliği marketing türkiyenin hesaplarından c...</td>\n",
       "      <td>(0.13636363636363635, 0.5)</td>\n",
       "    </tr>\n",
       "    <tr>\n",
       "      <th>4</th>\n",
       "      <td>marketing türkiye deloitteun tasarladığı marke...</td>\n",
       "      <td>(0.05000000000000002, 0.5)</td>\n",
       "    </tr>\n",
       "  </tbody>\n",
       "</table>\n",
       "</div>"
      ],
      "text/plain": [
       "                                            Positive  \\\n",
       "0  ilk arkadaşlarımız ilk sırdaşlarımız ilk kahra...   \n",
       "1  dünyanın prestijli tasarım yarışmalarından if ...   \n",
       "2  akbankın katkılarıyla düzenlenen mediacat live...   \n",
       "3  etkinliği marketing türkiyenin hesaplarından c...   \n",
       "4  marketing türkiye deloitteun tasarladığı marke...   \n",
       "\n",
       "              Positive_Result  \n",
       "0  (0.4083333333333334, 0.55)  \n",
       "1                 (0.4, 0.25)  \n",
       "2  (0.13636363636363635, 0.5)  \n",
       "3  (0.13636363636363635, 0.5)  \n",
       "4  (0.05000000000000002, 0.5)  "
      ]
     },
     "execution_count": 73,
     "metadata": {},
     "output_type": "execute_result"
    }
   ],
   "source": [
    "df_eng=pd.DataFrame({'Positive':positive_tweets,\"Positive_Result\":positive_result})\n",
    "df_eng"
   ]
  },
  {
   "cell_type": "code",
   "execution_count": 74,
   "metadata": {},
   "outputs": [
    {
     "data": {
      "text/html": [
       "<div>\n",
       "<style scoped>\n",
       "    .dataframe tbody tr th:only-of-type {\n",
       "        vertical-align: middle;\n",
       "    }\n",
       "\n",
       "    .dataframe tbody tr th {\n",
       "        vertical-align: top;\n",
       "    }\n",
       "\n",
       "    .dataframe thead th {\n",
       "        text-align: right;\n",
       "    }\n",
       "</style>\n",
       "<table border=\"1\" class=\"dataframe\">\n",
       "  <thead>\n",
       "    <tr style=\"text-align: right;\">\n",
       "      <th></th>\n",
       "      <th>Negative</th>\n",
       "      <th>Negative_Result</th>\n",
       "    </tr>\n",
       "  </thead>\n",
       "  <tbody>\n",
       "    <tr>\n",
       "      <th>0</th>\n",
       "      <td>şubelerimizde mayıs tarihlerinde mayısta saatl...</td>\n",
       "      <td>(-0.1, 0.1)</td>\n",
       "    </tr>\n",
       "    <tr>\n",
       "      <th>1</th>\n",
       "      <td>nisan tarihinden itibaren şubelerimizde saatle...</td>\n",
       "      <td>(-0.05, 0.07500000000000001)</td>\n",
       "    </tr>\n",
       "    <tr>\n",
       "      <th>2</th>\n",
       "      <td>pandemi nedeniyle sağlık önlemlerine dikkat ed...</td>\n",
       "      <td>(-0.006249999999999999, 0.24375000000000002)</td>\n",
       "    </tr>\n",
       "  </tbody>\n",
       "</table>\n",
       "</div>"
      ],
      "text/plain": [
       "                                            Negative  \\\n",
       "0  şubelerimizde mayıs tarihlerinde mayısta saatl...   \n",
       "1  nisan tarihinden itibaren şubelerimizde saatle...   \n",
       "2  pandemi nedeniyle sağlık önlemlerine dikkat ed...   \n",
       "\n",
       "                                Negative_Result  \n",
       "0                                   (-0.1, 0.1)  \n",
       "1                  (-0.05, 0.07500000000000001)  \n",
       "2  (-0.006249999999999999, 0.24375000000000002)  "
      ]
     },
     "execution_count": 74,
     "metadata": {},
     "output_type": "execute_result"
    }
   ],
   "source": [
    "df_eng=pd.DataFrame({'Negative':negative_tweets,\"Negative_Result\":negative_result})\n",
    "df_eng"
   ]
  },
  {
   "cell_type": "code",
   "execution_count": 75,
   "metadata": {},
   "outputs": [
    {
     "data": {
      "text/html": [
       "<div>\n",
       "<style scoped>\n",
       "    .dataframe tbody tr th:only-of-type {\n",
       "        vertical-align: middle;\n",
       "    }\n",
       "\n",
       "    .dataframe tbody tr th {\n",
       "        vertical-align: top;\n",
       "    }\n",
       "\n",
       "    .dataframe thead th {\n",
       "        text-align: right;\n",
       "    }\n",
       "</style>\n",
       "<table border=\"1\" class=\"dataframe\">\n",
       "  <thead>\n",
       "    <tr style=\"text-align: right;\">\n",
       "      <th></th>\n",
       "      <th>Neutral</th>\n",
       "      <th>Neutral_Result</th>\n",
       "    </tr>\n",
       "  </thead>\n",
       "  <tbody>\n",
       "    <tr>\n",
       "      <th>0</th>\n",
       "      <td>fırsatları duyan mobilden akbanklı oluyor feyy...</td>\n",
       "      <td>(0.0, 0.1)</td>\n",
       "    </tr>\n",
       "    <tr>\n",
       "      <th>1</th>\n",
       "      <td>kurumsal iletişim bölüm başkanımız murat göllü...</td>\n",
       "      <td>(0.0, 0.0)</td>\n",
       "    </tr>\n",
       "  </tbody>\n",
       "</table>\n",
       "</div>"
      ],
      "text/plain": [
       "                                             Neutral Neutral_Result\n",
       "0  fırsatları duyan mobilden akbanklı oluyor feyy...     (0.0, 0.1)\n",
       "1  kurumsal iletişim bölüm başkanımız murat göllü...     (0.0, 0.0)"
      ]
     },
     "execution_count": 75,
     "metadata": {},
     "output_type": "execute_result"
    }
   ],
   "source": [
    "df_eng=pd.DataFrame({'Neutral':neutral,\"Neutral_Result\":neutral_result})\n",
    "df_eng"
   ]
  },
  {
   "cell_type": "code",
   "execution_count": 71,
   "metadata": {},
   "outputs": [
    {
     "name": "stdout",
     "output_type": "stream",
     "text": [
      "Excel file ready\n"
     ]
    }
   ],
   "source": [
    "workbook = xlsxwriter.Workbook(\"AkbankSAPCopy2\" + \".xlsx\")\n",
    "worksheet = workbook.add_worksheet()\n",
    "row = 0\n",
    "for i in range(10):\n",
    "    worksheet.write_string(row, 0, str(df['time'][i]))\n",
    "    worksheet.write(row, 1, df['tweets'][i])\n",
    "    worksheet.write_string(row, 2, str(df['likes'][i]))\n",
    "    row += 1\n",
    "\n",
    "workbook.close()\n",
    "print(\"Excel file ready\")"
   ]
  },
  {
   "cell_type": "code",
   "execution_count": null,
   "metadata": {},
   "outputs": [],
   "source": []
  }
 ],
 "metadata": {
  "kernelspec": {
   "display_name": "Python 3",
   "language": "python",
   "name": "python3"
  },
  "language_info": {
   "codemirror_mode": {
    "name": "ipython",
    "version": 3
   },
   "file_extension": ".py",
   "mimetype": "text/x-python",
   "name": "python",
   "nbconvert_exporter": "python",
   "pygments_lexer": "ipython3",
   "version": "3.8.5"
  }
 },
 "nbformat": 4,
 "nbformat_minor": 4
}
